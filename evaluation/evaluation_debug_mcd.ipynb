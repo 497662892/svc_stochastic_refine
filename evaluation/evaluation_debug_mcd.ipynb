{
 "cells": [
  {
   "attachments": {},
   "cell_type": "markdown",
   "metadata": {},
   "source": [
    "# MCD"
   ]
  },
  {
   "cell_type": "code",
   "execution_count": 15,
   "metadata": {},
   "outputs": [],
   "source": [
    "from mel_cepstral_distance import get_metrics_wavs, get_metrics_mels\n",
    "import os\n",
    "from pathlib import Path\n",
    "import pickle"
   ]
  },
  {
   "cell_type": "code",
   "execution_count": 2,
   "metadata": {},
   "outputs": [],
   "source": [
    "def calculate_original_inferred(ori_path, inf_path):\n",
    "    res = get_metrics_wavs(ori_path, inf_path)\n",
    "\n",
    "    return res"
   ]
  },
  {
   "cell_type": "code",
   "execution_count": 13,
   "metadata": {},
   "outputs": [],
   "source": [
    "ori_path = Path(os.path.join('original', 'original.wav'))\n",
    "inf_path = Path(os.path.join('inferred', 'inferred.wav'))\n",
    "mcd, penalty, final_frame_number = calculate_original_inferred(ori_path, inf_path)"
   ]
  },
  {
   "cell_type": "code",
   "execution_count": 14,
   "metadata": {},
   "outputs": [
    {
     "data": {
      "text/plain": [
       "8.61391802681717"
      ]
     },
     "execution_count": 14,
     "metadata": {},
     "output_type": "execute_result"
    }
   ],
   "source": [
    "mcd"
   ]
  },
  {
   "cell_type": "code",
   "execution_count": 21,
   "metadata": {},
   "outputs": [],
   "source": [
    "from functools import reduce\n",
    "\n",
    "\n",
    "def main():\n",
    "    original_dir = 'original'\n",
    "    inferred_dir = 'inferred'\n",
    "    \n",
    "    results = {}\n",
    "    \n",
    "    # iterate over all files in the original directory\n",
    "    for file in os.listdir(original_dir):\n",
    "        if file.endswith('.wav'):\n",
    "            original_file = Path(os.path.join(original_dir, file))\n",
    "            # get the corresponding file in the inferred directory\n",
    "            inferred_file = Path(os.path.join(inferred_dir, file))\n",
    "            # calculate the MCD\n",
    "            mcd, penalty, final_frame_number = get_metrics_wavs(original_file, inferred_file)\n",
    "            # add the result to the dictionary\n",
    "            results[file] = [mcd, penalty, final_frame_number]\n",
    "    \n",
    "    average_mcd = reduce(lambda x, y: x + y, [results[key][0] for key in results]) / len(results)\n",
    "    print('Average MCD: {}'.format(average_mcd))\n",
    "    \n",
    "    # save results to inferred_dir as pkl\n",
    "    with open(os.path.join(inferred_dir, 'results.pkl'), 'wb') as f:\n",
    "        pickle.dump(results, f)\n",
    "    "
   ]
  },
  {
   "cell_type": "code",
   "execution_count": 22,
   "metadata": {},
   "outputs": [
    {
     "name": "stdout",
     "output_type": "stream",
     "text": [
      "Average MCD: 8.61391802681717\n"
     ]
    }
   ],
   "source": [
    "main()"
   ]
  }
 ],
 "metadata": {
  "kernelspec": {
   "display_name": "svc",
   "language": "python",
   "name": "python3"
  },
  "language_info": {
   "codemirror_mode": {
    "name": "ipython",
    "version": 3
   },
   "file_extension": ".py",
   "mimetype": "text/x-python",
   "name": "python",
   "nbconvert_exporter": "python",
   "pygments_lexer": "ipython3",
   "version": "3.10.9"
  },
  "orig_nbformat": 4
 },
 "nbformat": 4,
 "nbformat_minor": 2
}
