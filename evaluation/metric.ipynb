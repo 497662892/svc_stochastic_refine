{
 "cells": [
  {
   "cell_type": "code",
   "execution_count": 2,
   "metadata": {},
   "outputs": [],
   "source": [
    "import re\n",
    "import numpy as np\n",
    "import pandas as pd\n",
    "import os\n",
    "from glob import glob"
   ]
  },
  {
   "cell_type": "code",
   "execution_count": 3,
   "metadata": {},
   "outputs": [
    {
     "name": "stdout",
     "output_type": "stream",
     "text": [
      "In testing set\n",
      "--------------------\n",
      "diffsvc-87149.log MSE loss is: 1.0937\n",
      "diffsvc-87149.log L1 loss is: 3.4432\n",
      "diffsvc_MCEP-87150.log MSE loss is: 0.8999\n",
      "diffsvc_MCEP-87150.log L1 loss is: 3.5261\n",
      "diffsvc_MCEP_x0-87442.log MSE loss is: 0.7126\n",
      "diffsvc_MCEP_x0-87442.log L1 loss is: 2.8864\n",
      "diffsvc_MCEP_x0-87670.log MSE loss is: 0.7608\n",
      "diffsvc_MCEP_x0-87670.log L1 loss is: 3.0739\n",
      "diffsvc_MCEP_x0_L1-87657.log MSE loss is: 0.7853\n",
      "diffsvc_MCEP_x0_L1-87657.log L1 loss is: 3.0882\n",
      "diffsvc_x0-87443.log MSE loss is: 0.7851\n",
      "diffsvc_x0-87443.log L1 loss is: 3.2380\n",
      "diffsvc_x0-87456.log MSE loss is: 0.7858\n",
      "diffsvc_x0-87456.log L1 loss is: 3.2392\n",
      "diffsvc_x0_final-87738.log MSE loss is: 0.9912\n",
      "diffsvc_x0_final-87738.log L1 loss is: 3.7756\n",
      "diffsvc_x0_L1-87740.log MSE loss is: 0.9933\n",
      "diffsvc_x0_L1-87740.log L1 loss is: 3.7845\n",
      "transformer-87158.log MSE loss is: 0.6970\n",
      "transformer-87158.log L1 loss is: 2.9463\n",
      "transformer_20-87627.log MSE loss is: 0.8137\n",
      "transformer_20-87627.log L1 loss is: 3.1304\n",
      "V1-87147.log MSE loss is: 2.8176\n",
      "V1-87147.log L1 loss is: 4.3652\n",
      "v1_MCEP-87146.log MSE loss is: 4.6916\n",
      "v1_MCEP-87146.log L1 loss is: 4.9514\n",
      "v1_MCEP_x0-87765.log MSE loss is: 0.7971\n",
      "v1_MCEP_x0-87765.log L1 loss is: 3.0879\n",
      "v1_MCEP_x0_L1-87766.log MSE loss is: 0.7965\n",
      "v1_MCEP_x0_L1-87766.log L1 loss is: 3.0889\n",
      "V1_x0-87742.log MSE loss is: 0.8428\n",
      "V1_x0-87742.log L1 loss is: 3.1602\n",
      "V1_x0_L1-87743.log MSE loss is: 0.8883\n",
      "V1_x0_L1-87743.log L1 loss is: 3.2359\n"
     ]
    }
   ],
   "source": [
    "print(\"In testing set\")\n",
    "print(\"-\"*20)\n",
    "files = glob(\"*.log\")\n",
    "for file in files:\n",
    "    MSE = 0\n",
    "    with open(file, \"r\") as f:\n",
    "        text = f.read()\n",
    "    if \"val\" in file:\n",
    "        continue\n",
    "    if \"transformer\" in file:\n",
    "        mse = re.findall(r\"the mse loss of mcep is: ([0-9.]*)\", text)\n",
    "        l1 = re.findall(r\"the l1 loss of mcep is: ([0-9.]*)\", text)\n",
    "        l1 = [float(i) for i in l1]\n",
    "        mse = [float(i) for i in mse]\n",
    "        mse = np.mean(mse)\n",
    "        print(file, \"MSE loss is: {:.4f}\".format(mse))\n",
    "        print(file, \"L1 loss is: {:.4f}\".format(np.mean(l1)))\n",
    "    else:\n",
    "        mse = re.findall(r\"the MSE loss is: tensor\\(([0-9.]*)\", text)\n",
    "        mse = [float(i) for i in mse]\n",
    "        mse = np.mean(mse)\n",
    "        \n",
    "        l1 = re.findall(r\"the L1 loss is: tensor\\(([0-9.]*)\", text)\n",
    "        l1 = [float(i) for i in l1]\n",
    "        \n",
    "        print(file, \"MSE loss is: {:.4f}\".format(mse))\n",
    "        print(file, \"L1 loss is: {:.4f}\".format(np.mean(l1)))\n",
    "        "
   ]
  },
  {
   "cell_type": "code",
   "execution_count": 4,
   "metadata": {},
   "outputs": [
    {
     "name": "stdout",
     "output_type": "stream",
     "text": [
      "In val set\n",
      "--------------------\n",
      "diffsvc_MCEP_val-87152.log MSE loss is: 0.5977\n",
      "diffsvc_MCEP_val-87152.log L1 loss is: 2.8648\n",
      "diffsvc_MCEP_x0_L1_val-87662.log MSE loss is: 0.3014\n",
      "diffsvc_MCEP_x0_L1_val-87662.log L1 loss is: 1.8061\n",
      "diffsvc_MCEP_x0_val-87671.log MSE loss is: 0.2974\n",
      "diffsvc_MCEP_x0_val-87671.log L1 loss is: 1.8173\n",
      "diffsvc_val-87151.log MSE loss is: 0.8414\n",
      "diffsvc_val-87151.log L1 loss is: 2.8202\n",
      "diffsvc_x0_final_val-87739.log MSE loss is: 0.4052\n",
      "diffsvc_x0_final_val-87739.log L1 loss is: 2.2868\n",
      "diffsvc_x0_L1_val-87741.log MSE loss is: 0.4029\n",
      "diffsvc_x0_L1_val-87741.log L1 loss is: 2.2793\n",
      "v1_MCEP_val-87154.log MSE loss is: 5.6569\n",
      "v1_MCEP_val-87154.log L1 loss is: 4.7493\n",
      "v1_MCEP_x0_L1_val-87767.log MSE loss is: 0.3457\n",
      "v1_MCEP_x0_L1_val-87767.log L1 loss is: 1.9376\n",
      "v1_MCEP_x0_val-87768.log MSE loss is: 0.3462\n",
      "v1_MCEP_x0_val-87768.log L1 loss is: 1.9483\n",
      "V1_val-87153.log MSE loss is: 3.6998\n",
      "V1_val-87153.log L1 loss is: 4.1500\n",
      "V1_x0_L1_val-87748.log MSE loss is: 0.5262\n",
      "V1_x0_L1_val-87748.log L1 loss is: 2.4767\n",
      "V1_x0_val-87747.log MSE loss is: 0.4491\n",
      "V1_x0_val-87747.log L1 loss is: 2.2485\n"
     ]
    }
   ],
   "source": [
    "print(\"In val set\")\n",
    "print(\"-\"*20)\n",
    "files = glob(\"*.log\")\n",
    "for file in files:\n",
    "    MSE = 0\n",
    "    with open(file, \"r\") as f:\n",
    "        text = f.read()\n",
    "    if \"val\" not in file:\n",
    "        continue\n",
    "    if \"transformer\" in file:\n",
    "        mse = re.findall(r\"the mse loss of mcep is: ([0-9.]*)\", text)\n",
    "        l1 = re.findall(r\"the l1 loss of mcep is: ([0-9.]*)\", text)\n",
    "        l1 = [float(i) for i in l1]\n",
    "        mse = [float(i) for i in mse]\n",
    "        mse = np.mean(mse)\n",
    "        print(file, \"MSE loss is: {:.4f}\".format(mse))\n",
    "        print(file, \"L1 loss is: {:.4f}\".format(np.mean(l1)))\n",
    "    else:\n",
    "        mse = re.findall(r\"the MSE loss is: tensor\\(([0-9.]*)\", text)\n",
    "        mse = [float(i) for i in mse]\n",
    "        mse = np.mean(mse)\n",
    "        \n",
    "        l1 = re.findall(r\"the L1 loss is: tensor\\(([0-9.]*)\", text)\n",
    "        l1 = [float(i) for i in l1]\n",
    "        \n",
    "        print(file, \"MSE loss is: {:.4f}\".format(mse))\n",
    "        print(file, \"L1 loss is: {:.4f}\".format(np.mean(l1)))"
   ]
  }
 ],
 "metadata": {
  "kernelspec": {
   "display_name": "env1",
   "language": "python",
   "name": "python3"
  },
  "language_info": {
   "codemirror_mode": {
    "name": "ipython",
    "version": 3
   },
   "file_extension": ".py",
   "mimetype": "text/x-python",
   "name": "python",
   "nbconvert_exporter": "python",
   "pygments_lexer": "ipython3",
   "version": "3.9.16"
  },
  "orig_nbformat": 4
 },
 "nbformat": 4,
 "nbformat_minor": 2
}
